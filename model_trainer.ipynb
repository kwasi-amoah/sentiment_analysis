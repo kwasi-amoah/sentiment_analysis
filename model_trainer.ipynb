{
 "cells": [
  {
   "cell_type": "code",
   "execution_count": null,
   "id": "6d7924b3-f44c-48bb-9e6c-9d5845fca08f",
   "metadata": {},
   "outputs": [],
   "source": [
    "from datasets import Dataset\n",
    "from sklearn.preprocessing import LabelEncoder\n",
    "from transformers import AutoTokenizer\n",
    "import torch\n",
    "import torch.nn as nn\n",
    "from transformers import AutoModelForSequenceClassification, Trainer, TrainingArguments\n",
    "from sklearn.utils.class_weight import compute_class_weight\n",
    "import numpy as np\n",
    "from sklearn.model_selection import KFold\n",
    "from torch.utils.data import Subset\n",
    "from sklearn.metrics import accuracy_score"
   ]
  },
  {
   "cell_type": "code",
   "execution_count": null,
   "id": "f7f07527-6c57-4397-a46b-3a651081db01",
   "metadata": {},
   "outputs": [],
   "source": [
    "# Load your dataset\n",
    "data = pd.read_excel(\"Path to data\")\n",
    "\n",
    "print(data.head())"
   ]
  },
  {
   "cell_type": "code",
   "execution_count": null,
   "id": "2f52064f-57db-40dd-85fa-c68fef4d2e47",
   "metadata": {},
   "outputs": [],
   "source": [
    "# Convert DataFrame to Hugging Face Dataset\n",
    "dataset = Dataset.from_pandas(data)\n",
    "\n",
    "# Split dataset into training and validation sets\n",
    "dataset = dataset.train_test_split(test_size=0.2)\n",
    "train_dataset = dataset['train']\n",
    "val_dataset = dataset['test']"
   ]
  },
  {
   "cell_type": "code",
   "execution_count": null,
   "id": "7fd3e279-c704-4f85-a7a4-dc282093f82a",
   "metadata": {},
   "outputs": [],
   "source": [
    "from sklearn.preprocessing import LabelEncoder\n",
    "\n",
    "# Define label encoder\n",
    "label_encoder = LabelEncoder()\n",
    "\n",
    "# Fit encoder to label names\n",
    "label_names = [\"complaint\", \"enquiry\", \"other\", \"praise\", \"promo\", \"reaction\", \"recommendation\", \"response\"]\n",
    "label_encoder.fit(label_names)\n",
    "\n",
    "# Encode labels\n",
    "train_dataset = train_dataset.map(lambda example: {\"label\": label_encoder.transform([example[\"label\"]])[0]})\n",
    "val_dataset = val_dataset.map(lambda example: {\"label\": label_encoder.transform([example[\"label\"]])[0]})\n"
   ]
  },
  {
   "cell_type": "code",
   "execution_count": null,
   "id": "177e6db9-5f7e-4373-b29b-dbe55321ac52",
   "metadata": {},
   "outputs": [],
   "source": [
    "from transformers import AutoTokenizer\n",
    "\n",
    "# Load BERTweet tokenizer\n",
    "tokenizer = AutoTokenizer.from_pretrained(\"vinai/bertweet-base\")\n",
    "\n",
    "# Tokenization function\n",
    "def tokenize_function(examples):\n",
    "    return tokenizer(examples[\"texts\"], truncation=True, padding=\"max_length\", max_length=128)\n",
    "\n",
    "# Tokenize datasets\n",
    "train_dataset = train_dataset.map(tokenize_function, batched=True, remove_columns=[\"created_at\", \"likes\", \"retweets\", \"replies\", \"views\"])\n",
    "val_dataset = val_dataset.map(tokenize_function, batched=True, remove_columns=[\"created_at\", \"likes\", \"retweets\", \"replies\", \"views\"])"
   ]
  },
  {
   "cell_type": "code",
   "execution_count": null,
   "id": "45ce26c9-d52f-4a74-ab4b-9f403da70ff4",
   "metadata": {},
   "outputs": [],
   "source": [
    "import torch\n",
    "\n",
    "# Set dataset format for PyTorch\n",
    "train_dataset.set_format(type=\"torch\", columns=[\"input_ids\", \"attention_mask\", \"label\"])\n",
    "val_dataset.set_format(type=\"torch\", columns=[\"input_ids\", \"attention_mask\", \"label\"])\n"
   ]
  },
  {
   "cell_type": "code",
   "execution_count": null,
   "id": "9346099e-a1a0-4229-bbf4-b8b13b889ae1",
   "metadata": {},
   "outputs": [],
   "source": [
    "# Compute class weights to account for class imbalances\n",
    "train_labels = np.array([example[\"label\"] for example in train_dataset])\n",
    "class_weights = compute_class_weight(\n",
    "    class_weight=\"balanced\",\n",
    "    classes=np.unique(train_labels),\n",
    "    y=train_labels\n",
    ")\n",
    "class_weights = torch.tensor(class_weights, dtype=torch.float)\n",
    "\n",
    "# Define Custom BERTweet Model with Weighted Loss\n",
    "class WeightedBERTweet(nn.Module):\n",
    "    def __init__(self, model_name, num_labels, class_weights):\n",
    "        super(WeightedBERTweet, self).__init__()\n",
    "        self.model = AutoModelForSequenceClassification.from_pretrained(model_name, num_labels=num_labels)\n",
    "        self.loss_fn = nn.CrossEntropyLoss(weight=class_weights)\n",
    "\n",
    "    def forward(self, input_ids, attention_mask, labels=None):\n",
    "        outputs = self.model(input_ids=input_ids, attention_mask=attention_mask)\n",
    "        logits = outputs.logits\n",
    "        loss = None\n",
    "        if labels is not None:\n",
    "            loss = self.loss_fn(logits, labels)\n",
    "        return {\"loss\": loss, \"logits\": logits} if loss is not None else {\"logits\": logits}"
   ]
  },
  {
   "cell_type": "code",
   "execution_count": null,
   "id": "95c78022-07eb-4ee0-8a3a-08ce800309f2",
   "metadata": {},
   "outputs": [],
   "source": [
    "# Initialize the model with class weights\n",
    "device = torch.device(\"cuda\" if torch.cuda.is_available() else \"cpu\")\n",
    "model = WeightedBERTweet(\"vinai/bertweet-base\", num_labels=8, class_weights=class_weights.to(device)).to(device)"
   ]
  },
  {
   "cell_type": "code",
   "execution_count": null,
   "id": "40d37b8d-e9d0-4291-8f4d-0897b0c09b19",
   "metadata": {},
   "outputs": [],
   "source": [
    "# Define the compute_metrics function\n",
    "def compute_metrics(p):\n",
    "    preds = np.argmax(p.predictions, axis=1)\n",
    "    labels = p.label_ids\n",
    "    accuracy = accuracy_score(labels, preds)\n",
    "    return {\"accuracy\": accuracy}\n",
    "\n",
    "# Training arguments\n",
    "training_args = TrainingArguments(\n",
    "    output_dir=\"./results\",\n",
    "    evaluation_strategy=\"epoch\",\n",
    "    learning_rate=1e-5,\n",
    "    per_device_train_batch_size=16,\n",
    "    per_device_eval_batch_size=16,\n",
    "    num_train_epochs=5,\n",
    "    weight_decay=0.1,\n",
    "    logging_steps=10,\n",
    "    logging_dir=\"./logs\",\n",
    "    save_strategy=\"epoch\",\n",
    "    metric_for_best_model=\"accuracy\",\n",
    "    \n",
    ")\n",
    "\n",
    "# Convert dataset to Pandas or NumPy for indexing\n",
    "texts = np.array(train_dataset[\"texts\"])\n",
    "labels = np.array(train_dataset[\"label\"])\n",
    "\n",
    "kf = KFold(n_splits=5, shuffle=True, random_state=42)\n",
    "\n",
    "fold_accuracies = []  # List to store accuracies for each fold\n",
    "\n",
    "\n",
    "for fold, (train_idx, val_idx) in enumerate(kf.split(texts, labels)):\n",
    "    print(f\"Training fold {fold+1}...\")\n",
    "\n",
    "    # Select subsets using `.select()`\n",
    "    train_subset = train_dataset.select(train_idx.tolist())\n",
    "    val_subset = train_dataset.select(val_idx.tolist())\n",
    "    \n",
    "    #train_subset = Subset(dataset, train_idx.tolist())\n",
    "    #val_subset = Subset(dataset, val_idx.tolist())\n",
    "    \n",
    "    trainer = Trainer(\n",
    "        model=model,\n",
    "        args=training_args,\n",
    "        train_dataset=train_subset,\n",
    "        eval_dataset=val_subset,\n",
    "        compute_metrics=compute_metrics\n",
    "    )\n",
    "    \n",
    "    trainer.train()\n",
    "    eval_results = trainer.evaluate()\n",
    "    fold_accuracies.append(eval_results[\"eval_accuracy\"])\n",
    "    \n",
    "# Calculate the average accuracy across all folds\n",
    "avg_accuracy = np.mean(fold_accuracies)\n",
    "print(f\"Average accuracy across folds: {avg_accuracy}\")\n"
   ]
  },
  {
   "cell_type": "code",
   "execution_count": null,
   "id": "b46a0871-65fe-44cb-8c05-745ddf43ebdb",
   "metadata": {},
   "outputs": [],
   "source": [
    "import torch\n",
    "\n",
    "save_directory = \"bertweet_model_v1\"\n",
    "torch.save(trainer.model.state_dict(), f\"{save_directory}/model.pth\")\n",
    "tokenizer.save_pretrained(save_directory)\n",
    "\n",
    "print(f\"Model and tokenizer saved to {save_directory}\")"
   ]
  },
  {
   "cell_type": "code",
   "execution_count": null,
   "id": "afa72d2f-4ca8-42a1-8ea8-ceafc5eb1268",
   "metadata": {},
   "outputs": [],
   "source": []
  }
 ],
 "metadata": {
  "kernelspec": {
   "display_name": "Python 3 (ipykernel)",
   "language": "python",
   "name": "python3"
  },
  "language_info": {
   "codemirror_mode": {
    "name": "ipython",
    "version": 3
   },
   "file_extension": ".py",
   "mimetype": "text/x-python",
   "name": "python",
   "nbconvert_exporter": "python",
   "pygments_lexer": "ipython3",
   "version": "3.11.7"
  }
 },
 "nbformat": 4,
 "nbformat_minor": 5
}
